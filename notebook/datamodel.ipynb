{
 "cells": [
  {
   "cell_type": "code",
   "execution_count": 52,
   "metadata": {},
   "outputs": [],
   "source": [
    "import psycopg2\n",
    "from sqlalchemy import create_engine\n",
    "import pandas as pd"
   ]
  },
  {
   "cell_type": "code",
   "execution_count": 54,
   "metadata": {},
   "outputs": [],
   "source": [
    "DATABASE_TYPE = 'postgresql'\n",
    "DBAPI = 'psycopg2'\n",
    "ENDPOINT = 'localhost'  # e.g. 'localhost'\n",
    "USER = 'postgres'\n",
    "PASSWORD = 'Password#1234'\n",
    "PORT = 5432  # default PostgreSQL port\n",
    "DATABASE = 'salemarketdb'\n",
    "\n",
    "# Create the connection string\n",
    "engine = create_engine(f\"{DATABASE_TYPE}+{DBAPI}://{USER}:{PASSWORD}@{ENDPOINT}:{PORT}/{DATABASE}\")"
   ]
  },
  {
   "cell_type": "code",
   "execution_count": 3,
   "metadata": {},
   "outputs": [],
   "source": [
    "try:\n",
    "    conn = psycopg2.connect(\"host=localhost dbname=postgres user=postgres password=Password#1234\")\n",
    "except psycopg2.Error as e:\n",
    "    print(\"Error : Could not make a connection to the database\")\n",
    "    print(e)"
   ]
  },
  {
   "cell_type": "code",
   "execution_count": 6,
   "metadata": {},
   "outputs": [],
   "source": [
    "try:\n",
    "    cur = conn.cursor()\n",
    "except psycopg2.Error as e:\n",
    "    print(\"Error : Could not get curser\")\n",
    "    print(e)"
   ]
  },
  {
   "cell_type": "code",
   "execution_count": 7,
   "metadata": {},
   "outputs": [],
   "source": [
    "conn.set_session(autocommit=True)"
   ]
  },
  {
   "cell_type": "code",
   "execution_count": 8,
   "metadata": {},
   "outputs": [],
   "source": [
    "try:\n",
    "    cur.execute(\"create database salemarketdb\")\n",
    "except psycopg2.Error as e:\n",
    "    print(\"Error : Could not create database\")\n",
    "    print(e)"
   ]
  },
  {
   "cell_type": "code",
   "execution_count": 9,
   "metadata": {},
   "outputs": [],
   "source": [
    "conn.close()"
   ]
  },
  {
   "cell_type": "code",
   "execution_count": 10,
   "metadata": {},
   "outputs": [],
   "source": [
    "try:\n",
    "    conn = psycopg2.connect(\"host=localhost dbname=salemarketdb user=postgres password=Password#1234\")\n",
    "except psycopg2.Error as e:\n",
    "    print(\"Error : Could not make a connection to the database\")\n",
    "    print(e)\n",
    "\n",
    "\n",
    "try:\n",
    "    cur = conn.cursor()\n",
    "except psycopg2.Error as e:\n",
    "    print(\"Error : Could not get curser\")\n",
    "    print(e)\n",
    "\n",
    "conn.set_session(autocommit=True)"
   ]
  },
  {
   "cell_type": "code",
   "execution_count": 11,
   "metadata": {},
   "outputs": [],
   "source": [
    "def execute_query(query):\n",
    "    try: \n",
    "        cur.execute(query)\n",
    "    except psycopg2.Error as e:\n",
    "        print(\"Error executing query\")\n",
    "        print(e)\n"
   ]
  },
  {
   "cell_type": "code",
   "execution_count": 50,
   "metadata": {},
   "outputs": [],
   "source": [
    "scheman_string =\"invoice_id varchar, branch varchar, city varchar, customer_type varchar, gender varchar, product_line varchar, unit_price float, quantity int, tax float, total float, date varchar, time varchar, payment varchar, cogs float, gross_margin_percentage float, gross_income float, rating float\"\n"
   ]
  },
  {
   "cell_type": "markdown",
   "metadata": {},
   "source": [
    "### Create Table query"
   ]
  },
  {
   "cell_type": "code",
   "execution_count": 42,
   "metadata": {},
   "outputs": [],
   "source": [
    "execute_query(f\"CREATE TABLE IF NOT EXISTS sales ({scheman_string});\")"
   ]
  },
  {
   "cell_type": "code",
   "execution_count": 15,
   "metadata": {},
   "outputs": [],
   "source": [
    "df = pd.read_csv(\"../data/supermarket_sales-Sheet1.csv\")"
   ]
  },
  {
   "cell_type": "code",
   "execution_count": 55,
   "metadata": {},
   "outputs": [
    {
     "data": {
      "text/plain": [
       "1000"
      ]
     },
     "execution_count": 55,
     "metadata": {},
     "output_type": "execute_result"
    }
   ],
   "source": [
    "df.to_sql('sales',engine, if_exists='replace', index=False)"
   ]
  },
  {
   "cell_type": "code",
   "execution_count": null,
   "metadata": {},
   "outputs": [],
   "source": [
    "df.to_sql()"
   ]
  },
  {
   "cell_type": "code",
   "execution_count": 27,
   "metadata": {},
   "outputs": [],
   "source": [
    "features = {}\n",
    "for feature in df.columns:\n",
    "    if df[feature].dtype == 'O':\n",
    "        features[feature] = 'varchar'\n",
    "    elif df[feature].dtype == 'int64':\n",
    "        features[feature] = 'int'\n",
    "    else: \n",
    "        features[feature] = 'float'\n"
   ]
  },
  {
   "cell_type": "code",
   "execution_count": 48,
   "metadata": {},
   "outputs": [
    {
     "data": {
      "text/plain": [
       "{'Invoice ID': 'varchar',\n",
       " 'Branch': 'varchar',\n",
       " 'City': 'varchar',\n",
       " 'Customer type': 'varchar',\n",
       " 'Gender': 'varchar',\n",
       " 'Product line': 'varchar',\n",
       " 'Unit price': 'float',\n",
       " 'Quantity': 'int',\n",
       " 'Tax 5%': 'float',\n",
       " 'Total': 'float',\n",
       " 'Date': 'varchar',\n",
       " 'Time': 'varchar',\n",
       " 'Payment': 'varchar',\n",
       " 'cogs': 'float',\n",
       " 'gross margin percentage': 'float',\n",
       " 'gross income': 'float',\n",
       " 'Rating': 'float'}"
      ]
     },
     "execution_count": 48,
     "metadata": {},
     "output_type": "execute_result"
    }
   ],
   "source": [
    "features"
   ]
  },
  {
   "cell_type": "code",
   "execution_count": 40,
   "metadata": {},
   "outputs": [
    {
     "data": {
      "text/plain": [
       "' invoice_id varchar, branch varchar, city varchar, customer_type varchar, gender varchar, product_line varchar, unit_price float, quantity int, tax_5% float, total float, date varchar, time varchar, payment varchar, cogs float, gross_margin_percentage float, gross_income float, rating float'"
      ]
     },
     "execution_count": 40,
     "metadata": {},
     "output_type": "execute_result"
    }
   ],
   "source": [
    "query_string = f\"CREATE TABLE IF NOT EXISTS sales ();\"\n",
    "\n",
    "schema_string = \"\"\n",
    "for feature in features.keys():\n",
    "    schema_string = schema_string + \" {} {},\".format(feature.lower().replace(\" \",\"_\"),features[feature])\n",
    "\n",
    "schema_string.strip(\",\")"
   ]
  }
 ],
 "metadata": {
  "kernelspec": {
   "display_name": "venv",
   "language": "python",
   "name": "python3"
  },
  "language_info": {
   "codemirror_mode": {
    "name": "ipython",
    "version": 3
   },
   "file_extension": ".py",
   "mimetype": "text/x-python",
   "name": "python",
   "nbconvert_exporter": "python",
   "pygments_lexer": "ipython3",
   "version": "3.9.13"
  }
 },
 "nbformat": 4,
 "nbformat_minor": 2
}
